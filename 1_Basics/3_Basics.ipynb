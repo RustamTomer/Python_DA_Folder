{
  "nbformat": 4,
  "nbformat_minor": 0,
  "metadata": {
    "colab": {
      "provenance": []
    },
    "kernelspec": {
      "name": "python3",
      "display_name": "Python 3"
    },
    "language_info": {
      "name": "python"
    }
  },
  "cells": [
    {
      "cell_type": "code",
      "execution_count": null,
      "metadata": {
        "id": "NPPQlEdt3RX3"
      },
      "outputs": [],
      "source": [
        "import random\n",
        "salary_list=[random.randint(50000,100000) for _ in range (10_000_000)]"
      ]
    },
    {
      "cell_type": "code",
      "source": [
        "import numpy as np"
      ],
      "metadata": {
        "id": "-yZeoijG3hOe"
      },
      "execution_count": null,
      "outputs": []
    },
    {
      "cell_type": "code",
      "source": [
        "%%timeit\n",
        "np.mean(salary_list)"
      ],
      "metadata": {
        "colab": {
          "base_uri": "https://localhost:8080/"
        },
        "id": "cHem8Vld3nWq",
        "outputId": "f7ef2f8e-4b3b-4ab1-ce66-791ef7265ee8"
      },
      "execution_count": null,
      "outputs": [
        {
          "output_type": "stream",
          "name": "stdout",
          "text": [
            "525 ms ± 9.87 ms per loop (mean ± std. dev. of 7 runs, 1 loop each)\n"
          ]
        }
      ]
    },
    {
      "cell_type": "code",
      "source": [
        "job_titles=[\"Data Analyst\", \"Data Scientist\", \"Data Engineer\", \"ML Engineer\", \"AI Engineer\"]\n",
        "\n",
        "base_salaries=[50000,100000,70000,80000,np.nan]\n",
        "\n",
        "bonus_rates=[0.1,0.5,0.3,0.2,np.nan]"
      ],
      "metadata": {
        "id": "-slIowkN3sBs"
      },
      "execution_count": null,
      "outputs": []
    },
    {
      "cell_type": "code",
      "source": [
        "total_salaries=base_salaries + (1*bonus_rates)\n",
        "print(total_salaries)"
      ],
      "metadata": {
        "colab": {
          "base_uri": "https://localhost:8080/"
        },
        "id": "C4L36n6_4Ko0",
        "outputId": "06f752c2-7182-456f-bedd-7b0b867da52d"
      },
      "execution_count": null,
      "outputs": [
        {
          "output_type": "stream",
          "name": "stdout",
          "text": [
            "[50000, 100000, 70000, 80000, nan, 0.1, 0.5, 0.3, 0.2, nan]\n"
          ]
        }
      ]
    },
    {
      "cell_type": "code",
      "source": [
        "np.nanmean(total_salaries)"
      ],
      "metadata": {
        "colab": {
          "base_uri": "https://localhost:8080/"
        },
        "id": "Lpy2gAG54FpO",
        "outputId": "cabfb2fc-9917-44a7-964e-503b9b41fa80"
      },
      "execution_count": null,
      "outputs": [
        {
          "output_type": "execute_result",
          "data": {
            "text/plain": [
              "37500.137500000004"
            ]
          },
          "metadata": {},
          "execution_count": 9
        }
      ]
    },
    {
      "cell_type": "code",
      "source": [],
      "metadata": {
        "id": "2o-KGIlh4X1I"
      },
      "execution_count": null,
      "outputs": []
    }
  ]
}