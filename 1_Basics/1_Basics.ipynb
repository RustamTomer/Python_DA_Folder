{
  "nbformat": 4,
  "nbformat_minor": 0,
  "metadata": {
    "colab": {
      "provenance": []
    },
    "kernelspec": {
      "name": "python3",
      "display_name": "Python 3"
    },
    "language_info": {
      "name": "python"
    }
  },
  "cells": [
    {
      "cell_type": "code",
      "execution_count": null,
      "metadata": {
        "id": "eErWOrF1Ai6E"
      },
      "outputs": [],
      "source": [
        "job_title='Data Analyst'"
      ]
    },
    {
      "cell_type": "code",
      "source": [
        "job_title.upper()"
      ],
      "metadata": {
        "colab": {
          "base_uri": "https://localhost:8080/",
          "height": 36
        },
        "id": "h02ieh6KAsH1",
        "outputId": "b80705fd-ad5e-4227-e7d6-36b604587f10"
      },
      "execution_count": null,
      "outputs": [
        {
          "output_type": "execute_result",
          "data": {
            "text/plain": [
              "'DATA ANALYST'"
            ],
            "application/vnd.google.colaboratory.intrinsic+json": {
              "type": "string"
            }
          },
          "metadata": {},
          "execution_count": 4
        }
      ]
    },
    {
      "cell_type": "code",
      "source": [
        "job_title.lower()"
      ],
      "metadata": {
        "colab": {
          "base_uri": "https://localhost:8080/",
          "height": 36
        },
        "id": "YZ2WaH1uA84i",
        "outputId": "e5a13e4a-0bf0-410a-dcfe-316109a76d84"
      },
      "execution_count": null,
      "outputs": [
        {
          "output_type": "execute_result",
          "data": {
            "text/plain": [
              "'data analyst'"
            ],
            "application/vnd.google.colaboratory.intrinsic+json": {
              "type": "string"
            }
          },
          "metadata": {},
          "execution_count": 5
        }
      ]
    },
    {
      "cell_type": "code",
      "source": [
        "job_title.replace('a','o',2)"
      ],
      "metadata": {
        "colab": {
          "base_uri": "https://localhost:8080/",
          "height": 36
        },
        "id": "lzEG9YnABAxC",
        "outputId": "38d8cfec-7256-4ee0-9af0-e4f44f168649"
      },
      "execution_count": null,
      "outputs": [
        {
          "output_type": "execute_result",
          "data": {
            "text/plain": [
              "'Doto Analyst'"
            ],
            "application/vnd.google.colaboratory.intrinsic+json": {
              "type": "string"
            }
          },
          "metadata": {},
          "execution_count": 6
        }
      ]
    },
    {
      "cell_type": "code",
      "source": [
        "job_title.split(sep=\" \",maxsplit=-1)"
      ],
      "metadata": {
        "colab": {
          "base_uri": "https://localhost:8080/"
        },
        "id": "hfBmcJTGBGKR",
        "outputId": "56337119-3e38-4696-99e7-12909a2ac60f"
      },
      "execution_count": null,
      "outputs": [
        {
          "output_type": "execute_result",
          "data": {
            "text/plain": [
              "['Data', 'Analyst']"
            ]
          },
          "metadata": {},
          "execution_count": 8
        }
      ]
    },
    {
      "cell_type": "code",
      "source": [
        "job_title.split(sep=\" \",maxsplit=3)"
      ],
      "metadata": {
        "colab": {
          "base_uri": "https://localhost:8080/"
        },
        "id": "0lteT6TcBNot",
        "outputId": "23752d42-ce36-4476-963f-ff2a47883aa0"
      },
      "execution_count": null,
      "outputs": [
        {
          "output_type": "execute_result",
          "data": {
            "text/plain": [
              "['Data', 'Analyst']"
            ]
          },
          "metadata": {},
          "execution_count": 9
        }
      ]
    },
    {
      "cell_type": "code",
      "source": [
        "job_title.split(sep=\".\",maxsplit=1)"
      ],
      "metadata": {
        "colab": {
          "base_uri": "https://localhost:8080/"
        },
        "id": "JOuIW6VrBTVm",
        "outputId": "256b921f-8832-47c8-a375-0b918ea96337"
      },
      "execution_count": null,
      "outputs": [
        {
          "output_type": "execute_result",
          "data": {
            "text/plain": [
              "['Data Analyst']"
            ]
          },
          "metadata": {},
          "execution_count": 10
        }
      ]
    },
    {
      "cell_type": "code",
      "source": [
        "str.__add__(\"Data \", \"Analyst\")"
      ],
      "metadata": {
        "colab": {
          "base_uri": "https://localhost:8080/",
          "height": 36
        },
        "id": "JdYexJT4BL2u",
        "outputId": "97a01275-77ce-4516-b3fc-049ddce91978"
      },
      "execution_count": null,
      "outputs": [
        {
          "output_type": "execute_result",
          "data": {
            "text/plain": [
              "'Data Analyst'"
            ],
            "application/vnd.google.colaboratory.intrinsic+json": {
              "type": "string"
            }
          },
          "metadata": {},
          "execution_count": 12
        }
      ]
    },
    {
      "cell_type": "code",
      "source": [
        "\"Data \".__add__(\"Analyst\")"
      ],
      "metadata": {
        "colab": {
          "base_uri": "https://localhost:8080/",
          "height": 36
        },
        "id": "QD8SVALPCHDP",
        "outputId": "85aa7d31-bac2-48d2-f4ca-3e482a5270e3"
      },
      "execution_count": null,
      "outputs": [
        {
          "output_type": "execute_result",
          "data": {
            "text/plain": [
              "'Data Analyst'"
            ],
            "application/vnd.google.colaboratory.intrinsic+json": {
              "type": "string"
            }
          },
          "metadata": {},
          "execution_count": 13
        }
      ]
    },
    {
      "cell_type": "code",
      "source": [
        "\"Data \" + \"Analyst\""
      ],
      "metadata": {
        "colab": {
          "base_uri": "https://localhost:8080/",
          "height": 36
        },
        "id": "xXYbvdf-COK9",
        "outputId": "6e37ac31-4a8f-4cdc-bf12-cf214d8260c6"
      },
      "execution_count": null,
      "outputs": [
        {
          "output_type": "execute_result",
          "data": {
            "text/plain": [
              "'Data Analyst'"
            ],
            "application/vnd.google.colaboratory.intrinsic+json": {
              "type": "string"
            }
          },
          "metadata": {},
          "execution_count": 14
        }
      ]
    },
    {
      "cell_type": "code",
      "source": [
        "\"Data Analyst \" * 10"
      ],
      "metadata": {
        "colab": {
          "base_uri": "https://localhost:8080/",
          "height": 36
        },
        "id": "tJDUGn5KCW38",
        "outputId": "0d84f9cf-f96c-4bb9-9f40-044d6338c525"
      },
      "execution_count": null,
      "outputs": [
        {
          "output_type": "execute_result",
          "data": {
            "text/plain": [
              "'Data Analyst Data Analyst Data Analyst Data Analyst Data Analyst Data Analyst Data Analyst Data Analyst Data Analyst Data Analyst '"
            ],
            "application/vnd.google.colaboratory.intrinsic+json": {
              "type": "string"
            }
          },
          "metadata": {},
          "execution_count": 15
        }
      ]
    },
    {
      "cell_type": "code",
      "source": [
        "\"Data Analyst\".__len__()"
      ],
      "metadata": {
        "colab": {
          "base_uri": "https://localhost:8080/"
        },
        "id": "2qtMPyS3ClGy",
        "outputId": "79ce93dc-240f-40fb-845a-223afe4ca394"
      },
      "execution_count": null,
      "outputs": [
        {
          "output_type": "execute_result",
          "data": {
            "text/plain": [
              "12"
            ]
          },
          "metadata": {},
          "execution_count": 17
        }
      ]
    },
    {
      "cell_type": "code",
      "source": [
        "len(\"Data Analyst\")"
      ],
      "metadata": {
        "colab": {
          "base_uri": "https://localhost:8080/"
        },
        "id": "YmIWH7hOCs9-",
        "outputId": "b6a91335-84fa-4bda-db0e-c95255c6eb95"
      },
      "execution_count": null,
      "outputs": [
        {
          "output_type": "execute_result",
          "data": {
            "text/plain": [
              "12"
            ]
          },
          "metadata": {},
          "execution_count": 18
        }
      ]
    },
    {
      "cell_type": "code",
      "source": [
        "years_exp = '0123456789'\n",
        "\", \".join(years_exp)"
      ],
      "metadata": {
        "colab": {
          "base_uri": "https://localhost:8080/",
          "height": 36
        },
        "id": "dM3qr2DGCxyw",
        "outputId": "fedca178-b2bb-4e4a-af5c-c2d1eedad064"
      },
      "execution_count": null,
      "outputs": [
        {
          "output_type": "execute_result",
          "data": {
            "text/plain": [
              "'0, 1, 2, 3, 4, 5, 6, 7, 8, 9'"
            ],
            "application/vnd.google.colaboratory.intrinsic+json": {
              "type": "string"
            }
          },
          "metadata": {},
          "execution_count": 19
        }
      ]
    },
    {
      "cell_type": "code",
      "source": [
        "\" \".join(years_exp)"
      ],
      "metadata": {
        "colab": {
          "base_uri": "https://localhost:8080/",
          "height": 36
        },
        "id": "HMiaanbyGqMx",
        "outputId": "8640e0f7-4928-4346-b692-0ecf10683229"
      },
      "execution_count": null,
      "outputs": [
        {
          "output_type": "execute_result",
          "data": {
            "text/plain": [
              "'0 1 2 3 4 5 6 7 8 9'"
            ],
            "application/vnd.google.colaboratory.intrinsic+json": {
              "type": "string"
            }
          },
          "metadata": {},
          "execution_count": 20
        }
      ]
    },
    {
      "cell_type": "code",
      "source": [
        "\" / \".join(years_exp)"
      ],
      "metadata": {
        "colab": {
          "base_uri": "https://localhost:8080/",
          "height": 36
        },
        "id": "FcSQfvinGtvZ",
        "outputId": "0b926e97-2560-457f-9f6b-865e450c51cf"
      },
      "execution_count": null,
      "outputs": [
        {
          "output_type": "execute_result",
          "data": {
            "text/plain": [
              "'0 / 1 / 2 / 3 / 4 / 5 / 6 / 7 / 8 / 9'"
            ],
            "application/vnd.google.colaboratory.intrinsic+json": {
              "type": "string"
            }
          },
          "metadata": {},
          "execution_count": 22
        }
      ]
    },
    {
      "cell_type": "code",
      "source": [
        "job_title=\"Data Analyst\"\n",
        "job_location=\"New York\"\n",
        "salary=50000\n",
        "years_experience='01'\n",
        "exp = \"-\".join(years_experience)\n",
        "print(f\"JOB TITLE : {job_title} \\nJOB LOCATION : {job_location} \\nSALARY : {salary} \\nYEARS OF EXPERIENCE : {exp}\")\n"
      ],
      "metadata": {
        "id": "pXVDl8zYGxdC",
        "colab": {
          "base_uri": "https://localhost:8080/"
        },
        "outputId": "8441859c-4e79-4a35-c4d7-77bb660cc0e9"
      },
      "execution_count": null,
      "outputs": [
        {
          "output_type": "stream",
          "name": "stdout",
          "text": [
            "JOB TITLE : Data Analyst \n",
            "JOB LOCATION : New York \n",
            "SALARY : 50000 \n",
            "YEARS OF EXPERIENCE : 0-1\n"
          ]
        }
      ]
    },
    {
      "cell_type": "code",
      "source": [
        "job_skills = ['sql', 'excel', 'python', 'tableau', 'pyspark', 'aws', 'azure', 'windows functions', 'data warehousing']\n",
        "\n",
        "print(job_skills[:])"
      ],
      "metadata": {
        "colab": {
          "base_uri": "https://localhost:8080/"
        },
        "id": "rl1WmoSw1i-V",
        "outputId": "4737c029-8ba9-4e6d-e928-f18216797210"
      },
      "execution_count": null,
      "outputs": [
        {
          "output_type": "stream",
          "name": "stdout",
          "text": [
            "['sql', 'excel', 'python', 'tableau', 'pyspark', 'aws', 'azure', 'windows functions', 'data warehousing']\n"
          ]
        }
      ]
    },
    {
      "cell_type": "code",
      "source": [
        "print(job_skills[::2])"
      ],
      "metadata": {
        "colab": {
          "base_uri": "https://localhost:8080/"
        },
        "id": "tvBOERd92GG2",
        "outputId": "e096a960-fd6e-4aad-c6c4-708a4fe40ac9"
      },
      "execution_count": null,
      "outputs": [
        {
          "output_type": "stream",
          "name": "stdout",
          "text": [
            "['sql', 'python', 'pyspark', 'azure', 'data warehousing']\n"
          ]
        }
      ]
    },
    {
      "cell_type": "code",
      "source": [
        "sk1, sk2, *rest_sk=job_skills\n",
        "print(sk1)\n",
        "print(sk2)\n",
        "print(rest_sk)"
      ],
      "metadata": {
        "colab": {
          "base_uri": "https://localhost:8080/"
        },
        "id": "iL1IPj2E2Kk5",
        "outputId": "2e92e242-86de-466b-878b-e7dd9d722d5b"
      },
      "execution_count": null,
      "outputs": [
        {
          "output_type": "stream",
          "name": "stdout",
          "text": [
            "sql\n",
            "excel\n",
            "['python', 'tableau', 'pyspark', 'aws', 'azure', 'windows functions', 'data warehousing']\n"
          ]
        }
      ]
    },
    {
      "cell_type": "code",
      "source": [
        "job_applicants={\n",
        "    'John' : 2,\n",
        "    \"Rick\" : 3,\n",
        "    \"Shawn\" : 6\n",
        "}\n",
        "print(job_applicants)"
      ],
      "metadata": {
        "colab": {
          "base_uri": "https://localhost:8080/"
        },
        "id": "57RaZdIT2c_-",
        "outputId": "3570f6a9-e7c6-450a-d249-f06146eb6009"
      },
      "execution_count": null,
      "outputs": [
        {
          "output_type": "stream",
          "name": "stdout",
          "text": [
            "{'John': 2, 'Rick': 3, 'Shawn': 6}\n"
          ]
        }
      ]
    },
    {
      "cell_type": "code",
      "source": [
        "job_applicants['John']"
      ],
      "metadata": {
        "colab": {
          "base_uri": "https://localhost:8080/"
        },
        "id": "koWbRVXd27Zh",
        "outputId": "7574be64-3551-42d1-eb5e-c3190b7e1e0b"
      },
      "execution_count": null,
      "outputs": [
        {
          "output_type": "execute_result",
          "data": {
            "text/plain": [
              "2"
            ]
          },
          "metadata": {},
          "execution_count": 6
        }
      ]
    },
    {
      "cell_type": "code",
      "source": [
        "job_applicants[\"Vick\"]=4"
      ],
      "metadata": {
        "id": "qp6GviPI3DDz"
      },
      "execution_count": null,
      "outputs": []
    },
    {
      "cell_type": "code",
      "source": [
        "job_applicants"
      ],
      "metadata": {
        "colab": {
          "base_uri": "https://localhost:8080/"
        },
        "id": "MkCnpgS93Jgj",
        "outputId": "c78c2451-5a2d-4aae-9394-a39f257f3242"
      },
      "execution_count": null,
      "outputs": [
        {
          "output_type": "execute_result",
          "data": {
            "text/plain": [
              "{'John': 2, 'Rick': 3, 'Shawn': 6, 'Vick': 4}"
            ]
          },
          "metadata": {},
          "execution_count": 8
        }
      ]
    },
    {
      "cell_type": "code",
      "source": [
        "job_applicants.pop(\"Shawn\")"
      ],
      "metadata": {
        "colab": {
          "base_uri": "https://localhost:8080/"
        },
        "id": "9EMEQdPs3LlH",
        "outputId": "ee674575-ed6b-4638-ac44-1e9117ffe66e"
      },
      "execution_count": null,
      "outputs": [
        {
          "output_type": "execute_result",
          "data": {
            "text/plain": [
              "6"
            ]
          },
          "metadata": {},
          "execution_count": 9
        }
      ]
    },
    {
      "cell_type": "code",
      "source": [
        "job_applicants\n"
      ],
      "metadata": {
        "colab": {
          "base_uri": "https://localhost:8080/"
        },
        "id": "xZhX4vX73R6a",
        "outputId": "01b529cd-3b78-4fe6-c139-2c507fa30240"
      },
      "execution_count": null,
      "outputs": [
        {
          "output_type": "execute_result",
          "data": {
            "text/plain": [
              "{'John': 2, 'Rick': 3, 'Vick': 4}"
            ]
          },
          "metadata": {},
          "execution_count": 10
        }
      ]
    },
    {
      "cell_type": "code",
      "source": [
        "job_applicants.update({\"Vick\" : 4})"
      ],
      "metadata": {
        "id": "aacyG9r-3UUP"
      },
      "execution_count": null,
      "outputs": []
    },
    {
      "cell_type": "code",
      "source": [
        "for key, value in job_applicants.items():\n",
        "  if value > 3:\n",
        "    print(key, 'has', value, 'years experience')"
      ],
      "metadata": {
        "colab": {
          "base_uri": "https://localhost:8080/"
        },
        "id": "wolPL0Ie3ap_",
        "outputId": "9628e1d4-9882-49f8-e0af-84ab4839177c"
      },
      "execution_count": null,
      "outputs": [
        {
          "output_type": "stream",
          "name": "stdout",
          "text": [
            "Vick has 4 years experience\n"
          ]
        }
      ]
    },
    {
      "cell_type": "code",
      "source": [
        "job_list = [\n",
        "    # Analyst Roles\n",
        "    \"Data Analyst\",\n",
        "    \"Business Analyst\",\n",
        "    \"Financial Analyst\",\n",
        "    \"Product Analyst\",\n",
        "    \"Market Research Analyst\",\n",
        "    \"Operations Analyst\",\n",
        "    \"Risk Analyst\",\n",
        "    \"Quantitative Analyst\",\n",
        "    \"Healthcare Data Analyst\",\n",
        "    \"Supply Chain Analyst\",\n",
        "    \"Pricing Analyst\",\n",
        "    \"Fraud Analyst\",\n",
        "    \"Systems Analyst\",\n",
        "    \"Reporting Analyst\",\n",
        "    \"Revenue Analyst\",\n",
        "    \"Credit Analyst\",\n",
        "    \"Logistics Analyst\",\n",
        "    \"Marketing Analyst\",\n",
        "    \"Budget Analyst\",\n",
        "    \"Performance Analyst\",\n",
        "\n",
        "    # SDE (Software Development Engineer) Roles\n",
        "    \"Frontend Developer\",\n",
        "    \"Backend Developer\",\n",
        "    \"Full Stack Developer\",\n",
        "    \"Mobile App Developer\",\n",
        "    \"Game Developer\",\n",
        "    \"Embedded Systems Developer\",\n",
        "    \"DevOps Engineer\",\n",
        "    \"Software Engineer\",\n",
        "    \"Web Developer\",\n",
        "    \"Application Developer\",\n",
        "    \"UI/UX Engineer\",\n",
        "    \"API Developer\",\n",
        "    \"Test Automation Engineer\",\n",
        "    \"SDE for Tools and Infrastructure\",\n",
        "    \"Cloud Application Developer\",\n",
        "    \"System Software Developer\",\n",
        "    \"Middleware Developer\",\n",
        "    \"Network Engineer (Development)\",\n",
        "    \"Firmware Developer\",\n",
        "    \"Platform Engineer\",\n",
        "\n",
        "    # Machine Learning (ML) Roles\n",
        "    \"Machine Learning Engineer\",\n",
        "    \"Data Scientist\",\n",
        "    \"AI Research Scientist\",\n",
        "    \"Natural Language Processing Engineer\",\n",
        "    \"Computer Vision Engineer\",\n",
        "    \"Deep Learning Engineer\",\n",
        "    \"Reinforcement Learning Engineer\",\n",
        "    \"ML Operations Engineer\",\n",
        "    \"Robotics Engineer (AI/ML)\",\n",
        "    \"Predictive Modeler\",\n",
        "    \"AI Product Manager\",\n",
        "    \"AI Trainer\",\n",
        "    \"ML Algorithm Developer\",\n",
        "    \"Speech Recognition Engineer\",\n",
        "    \"Data Annotation Specialist\",\n",
        "    \"Computational Linguist\",\n",
        "    \"ML Research Scientist\",\n",
        "    \"Recommendation Systems Engineer\",\n",
        "    \"Data Engineer (ML Pipelines)\",\n",
        "    \"AI Ethicist\",\n",
        "\n",
        "    # Cloud Roles\n",
        "    \"Cloud Engineer\",\n",
        "    \"Cloud Solutions Architect\",\n",
        "    \"Cloud Security Engineer\",\n",
        "    \"Cloud Infrastructure Engineer\",\n",
        "    \"Cloud Operations Engineer\",\n",
        "    \"Cloud Developer\",\n",
        "    \"Cloud Administrator\",\n",
        "    \"Site Reliability Engineer (Cloud)\",\n",
        "    \"AWS Engineer\",\n",
        "    \"Azure Engineer\",\n",
        "    \"Google Cloud Platform Engineer\",\n",
        "    \"DevOps Engineer (Cloud)\",\n",
        "    \"Kubernetes Engineer\",\n",
        "    \"Cloud Database Administrator\",\n",
        "    \"Serverless Application Developer\",\n",
        "    \"Cloud Consultant\",\n",
        "    \"Virtualization Engineer\",\n",
        "    \"Hybrid Cloud Specialist\",\n",
        "    \"Multi-Cloud Integration Specialist\",\n",
        "    \"Cloud Cost Optimization Analyst\",\n",
        "\n",
        "    # Other Roles\n",
        "    \"Big Data Engineer\",\n",
        "    \"Data Architect\",\n",
        "    \"Software Architect\",\n",
        "    \"IoT Engineer\",\n",
        "    \"Blockchain Developer\",\n",
        "    \"Cybersecurity Analyst\",\n",
        "    \"IT Analyst\",\n",
        "    \"Systems Engineer\",\n",
        "    \"IT Consultant\",\n",
        "    \"Game AI Developer\",\n",
        "    \"AR/VR Developer\",\n",
        "    \"Automation Engineer\",\n",
        "    \"Database Administrator\",\n",
        "    \"Network Security Engineer\",\n",
        "    \"Research Scientist (CS/IT)\",\n",
        "    \"Software Testing Specialist\",\n",
        "    \"Digital Transformation Specialist\",\n",
        "    \"Bioinformatics Analyst\",\n",
        "    \"GeoSpatial Analyst\",\n",
        "    \"IT Project Manager\"\n",
        "]\n"
      ],
      "metadata": {
        "id": "O46cw6tg307f"
      },
      "execution_count": null,
      "outputs": []
    },
    {
      "cell_type": "code",
      "source": [
        "analyst_list = [job for job in job_list if \"Analyst\" in job]"
      ],
      "metadata": {
        "id": "EEjRmF5q8Dkc"
      },
      "execution_count": null,
      "outputs": []
    },
    {
      "cell_type": "code",
      "source": [
        "analyst_list"
      ],
      "metadata": {
        "colab": {
          "base_uri": "https://localhost:8080/"
        },
        "id": "cF90MtRx8TKY",
        "outputId": "a752b470-0398-4d1e-f94d-6dc2522e920c"
      },
      "execution_count": null,
      "outputs": [
        {
          "output_type": "execute_result",
          "data": {
            "text/plain": [
              "['Data Analyst',\n",
              " 'Business Analyst',\n",
              " 'Financial Analyst',\n",
              " 'Product Analyst',\n",
              " 'Market Research Analyst',\n",
              " 'Operations Analyst',\n",
              " 'Risk Analyst',\n",
              " 'Quantitative Analyst',\n",
              " 'Healthcare Data Analyst',\n",
              " 'Supply Chain Analyst',\n",
              " 'Pricing Analyst',\n",
              " 'Fraud Analyst',\n",
              " 'Systems Analyst',\n",
              " 'Reporting Analyst',\n",
              " 'Revenue Analyst',\n",
              " 'Credit Analyst',\n",
              " 'Logistics Analyst',\n",
              " 'Marketing Analyst',\n",
              " 'Budget Analyst',\n",
              " 'Performance Analyst',\n",
              " 'Cloud Cost Optimization Analyst',\n",
              " 'Cybersecurity Analyst',\n",
              " 'IT Analyst',\n",
              " 'Bioinformatics Analyst',\n",
              " 'GeoSpatial Analyst']"
            ]
          },
          "metadata": {},
          "execution_count": 16
        }
      ]
    },
    {
      "cell_type": "code",
      "source": [
        "data_science_jobs = [\n",
        "    \"Data Scientist\", \"Data Analyst\", \"Machine Learning Engineer\", \"AI Research Scientist\",\n",
        "    \"Data Engineer\", \"Business Intelligence Analyst\", \"Statistician\", \"Data Architect\",\n",
        "    \"Big Data Engineer\", \"Quantitative Analyst\", \"Data Visualization Specialist\",\n",
        "    \"Predictive Modeler\", \"Data Science Consultant\", \"Analytics Manager\",\n",
        "    \"Decision Scientist\", \"Natural Language Processing Engineer\", \"Computer Vision Engineer\",\n",
        "    \"Deep Learning Engineer\", \"Reinforcement Learning Engineer\", \"AI Product Manager\",\n",
        "    \"Data Mining Specialist\", \"ML Operations Engineer\", \"Data Strategy Consultant\",\n",
        "    \"Applied Scientist\", \"Operations Research Analyst\", \"Bioinformatics Data Scientist\",\n",
        "    \"Geospatial Data Scientist\", \"Fraud Detection Analyst\", \"Customer Insights Analyst\",\n",
        "    \"Retail Data Analyst\", \"Marketing Data Scientist\", \"Healthcare Data Scientist\",\n",
        "    \"Insurance Data Scientist\", \"Social Media Data Analyst\", \"Financial Data Scientist\",\n",
        "    \"Behavioral Data Analyst\", \"Gaming Data Scientist\", \"E-commerce Data Analyst\",\n",
        "    \"Data Ethics Specialist\", \"Research Scientist (AI)\", \"Speech Recognition Engineer\",\n",
        "    \"Personalization Algorithm Engineer\", \"Risk Modeling Analyst\", \"AdTech Data Scientist\",\n",
        "    \"Recommendation Systems Engineer\", \"Climate Data Scientist\", \"Energy Data Scientist\",\n",
        "    \"Sports Data Analyst\", \"Time Series Analyst\", \"IoT Data Scientist\",\n",
        "    \"HR Analytics Specialist\", \"Logistics Data Analyst\", \"Education Data Scientist\",\n",
        "    \"Quantum Data Scientist\", \"Data Science Educator\", \"Government Data Scientist\",\n",
        "    \"Media Data Analyst\", \"Sentiment Analysis Engineer\", \"Data Engineer (ML Pipelines)\",\n",
        "    \"Data Labeling Specialist\", \"Statistical Programmer\", \"Supply Chain Data Analyst\",\n",
        "    \"Data Wrangler\", \"Knowledge Graph Engineer\", \"AI Trainer\", \"Automation Data Scientist\",\n",
        "    \"Data Quality Analyst\", \"Customer Data Scientist\", \"Data Operations Engineer\",\n",
        "    \"Cloud Data Engineer\", \"A/B Testing Specialist\", \"Data Curation Specialist\",\n",
        "    \"AI Solutions Architect\", \"Economic Data Scientist\", \"Data Compliance Officer\",\n",
        "    \"Behavioral Insights Analyst\", \"Financial Risk Analyst\", \"Healthcare Data Engineer\",\n",
        "    \"Insurance Risk Analyst\", \"Advertising Data Analyst\", \"Retail Analytics Specialist\",\n",
        "    \"Telecom Data Scientist\", \"Security Data Scientist\", \"Cybersecurity Analyst\",\n",
        "    \"Agriculture Data Scientist\", \"Product Analytics Manager\", \"Machine Learning Researcher\",\n",
        "    \"Digital Analytics Consultant\", \"Credit Scoring Analyst\", \"AI Policy Analyst\",\n",
        "    \"Text Mining Specialist\", \"Data Forensics Analyst\", \"Knowledge Discovery Engineer\",\n",
        "    \"Customer Behavior Analyst\", \"Energy Forecasting Analyst\", \"AI Experimentation Engineer\",\n",
        "    \"Data Infrastructure Engineer\", \"Optimization Analyst\", \"Industrial Data Scientist\"\n",
        "]\n"
      ],
      "metadata": {
        "id": "OnywRv4U8Vo_"
      },
      "execution_count": null,
      "outputs": []
    },
    {
      "cell_type": "code",
      "source": [
        "data_science_jobs"
      ],
      "metadata": {
        "colab": {
          "base_uri": "https://localhost:8080/"
        },
        "id": "oeWqQYOw3nAI",
        "outputId": "f633026b-b6a3-43f6-d136-ed6ee096a121"
      },
      "execution_count": null,
      "outputs": [
        {
          "output_type": "execute_result",
          "data": {
            "text/plain": [
              "['Data Scientist',\n",
              " 'Data Analyst',\n",
              " 'Machine Learning Engineer',\n",
              " 'AI Research Scientist',\n",
              " 'Data Engineer',\n",
              " 'Business Intelligence Analyst',\n",
              " 'Statistician',\n",
              " 'Data Architect',\n",
              " 'Big Data Engineer',\n",
              " 'Quantitative Analyst',\n",
              " 'Data Visualization Specialist',\n",
              " 'Predictive Modeler',\n",
              " 'Data Science Consultant',\n",
              " 'Analytics Manager',\n",
              " 'Decision Scientist',\n",
              " 'Natural Language Processing Engineer',\n",
              " 'Computer Vision Engineer',\n",
              " 'Deep Learning Engineer',\n",
              " 'Reinforcement Learning Engineer',\n",
              " 'AI Product Manager',\n",
              " 'Data Mining Specialist',\n",
              " 'ML Operations Engineer',\n",
              " 'Data Strategy Consultant',\n",
              " 'Applied Scientist',\n",
              " 'Operations Research Analyst',\n",
              " 'Bioinformatics Data Scientist',\n",
              " 'Geospatial Data Scientist',\n",
              " 'Fraud Detection Analyst',\n",
              " 'Customer Insights Analyst',\n",
              " 'Retail Data Analyst',\n",
              " 'Marketing Data Scientist',\n",
              " 'Healthcare Data Scientist',\n",
              " 'Insurance Data Scientist',\n",
              " 'Social Media Data Analyst',\n",
              " 'Financial Data Scientist',\n",
              " 'Behavioral Data Analyst',\n",
              " 'Gaming Data Scientist',\n",
              " 'E-commerce Data Analyst',\n",
              " 'Data Ethics Specialist',\n",
              " 'Research Scientist (AI)',\n",
              " 'Speech Recognition Engineer',\n",
              " 'Personalization Algorithm Engineer',\n",
              " 'Risk Modeling Analyst',\n",
              " 'AdTech Data Scientist',\n",
              " 'Recommendation Systems Engineer',\n",
              " 'Climate Data Scientist',\n",
              " 'Energy Data Scientist',\n",
              " 'Sports Data Analyst',\n",
              " 'Time Series Analyst',\n",
              " 'IoT Data Scientist',\n",
              " 'HR Analytics Specialist',\n",
              " 'Logistics Data Analyst',\n",
              " 'Education Data Scientist',\n",
              " 'Quantum Data Scientist',\n",
              " 'Data Science Educator',\n",
              " 'Government Data Scientist',\n",
              " 'Media Data Analyst',\n",
              " 'Sentiment Analysis Engineer',\n",
              " 'Data Engineer (ML Pipelines)',\n",
              " 'Data Labeling Specialist',\n",
              " 'Statistical Programmer',\n",
              " 'Supply Chain Data Analyst',\n",
              " 'Data Wrangler',\n",
              " 'Knowledge Graph Engineer',\n",
              " 'AI Trainer',\n",
              " 'Automation Data Scientist',\n",
              " 'Data Quality Analyst',\n",
              " 'Customer Data Scientist',\n",
              " 'Data Operations Engineer',\n",
              " 'Cloud Data Engineer',\n",
              " 'A/B Testing Specialist',\n",
              " 'Data Curation Specialist',\n",
              " 'AI Solutions Architect',\n",
              " 'Economic Data Scientist',\n",
              " 'Data Compliance Officer',\n",
              " 'Behavioral Insights Analyst',\n",
              " 'Financial Risk Analyst',\n",
              " 'Healthcare Data Engineer',\n",
              " 'Insurance Risk Analyst',\n",
              " 'Advertising Data Analyst',\n",
              " 'Retail Analytics Specialist',\n",
              " 'Telecom Data Scientist',\n",
              " 'Security Data Scientist',\n",
              " 'Cybersecurity Analyst',\n",
              " 'Agriculture Data Scientist',\n",
              " 'Product Analytics Manager',\n",
              " 'Machine Learning Researcher',\n",
              " 'Digital Analytics Consultant',\n",
              " 'Credit Scoring Analyst',\n",
              " 'AI Policy Analyst',\n",
              " 'Text Mining Specialist',\n",
              " 'Data Forensics Analyst',\n",
              " 'Knowledge Discovery Engineer',\n",
              " 'Customer Behavior Analyst',\n",
              " 'Energy Forecasting Analyst',\n",
              " 'AI Experimentation Engineer',\n",
              " 'Data Infrastructure Engineer',\n",
              " 'Optimization Analyst',\n",
              " 'Industrial Data Scientist']"
            ]
          },
          "metadata": {},
          "execution_count": 19
        }
      ]
    },
    {
      "cell_type": "markdown",
      "source": [
        "# **EXERCISE 1** : SKILL INVESTIGATION\n"
      ],
      "metadata": {
        "id": "clzO5444JV8P"
      }
    },
    {
      "cell_type": "code",
      "source": [
        "my_skills = ['Python', 'SQL', 'Excel']"
      ],
      "metadata": {
        "id": "gsUq59uW84u5"
      },
      "execution_count": null,
      "outputs": []
    },
    {
      "cell_type": "code",
      "source": [
        "job_roles = [\n",
        "    {'role': 'Data Analyst', 'skills': ['Python', 'SQL', 'Excel']},\n",
        "    {'role': 'Data Scientist', 'skills': ['Python', 'R', 'Machine Learning', 'Deep Learning']},\n",
        "    {'role': 'Machine Learning Engineer', 'skills': ['Python', 'TensorFlow', 'PyTorch', 'Scikit-Learn']},\n",
        "    {'role': 'Data Engineer', 'skills': ['Python', 'Apache Spark', 'Hadoop', 'SQL']},\n",
        "    {'role': 'Business Intelligence Analyst', 'skills': ['Python', 'SQL', 'Tableau', 'Power BI', 'Excel']},\n",
        "    {'role': 'Quantitative Analyst', 'skills': ['R', 'Python', 'MATLAB', 'Statistics']},\n",
        "    {'role': 'Operations Analyst', 'skills': ['Python', 'SQL', 'Data Visualization', 'Process Improvement']},\n",
        "    {'role': 'Database Administrator', 'skills': ['SQL', 'Oracle', 'MySQL', 'Database Management']},\n",
        "    {'role': 'AI Engineer', 'skills': ['Python', 'TensorFlow', 'PyTorch', 'Computer Vision']},\n",
        "    {'role': 'Statistician', 'skills': ['R', 'SAS', 'Python', 'Statistical Modeling']}\n",
        "]"
      ],
      "metadata": {
        "id": "Tx5Aag3d-X-z"
      },
      "execution_count": null,
      "outputs": []
    },
    {
      "cell_type": "code",
      "source": [
        "qualified_roles=[]\n",
        "\n",
        "for job in job_roles:\n",
        "  qualified = True\n",
        "  for skill in my_skills:\n",
        "    if skill not in job['skills']:\n",
        "      qualified = False\n",
        "      break\n",
        "  if qualified:\n",
        "    qualified_roles.append(job['role'])\n",
        "\n",
        "print(qualified_roles)"
      ],
      "metadata": {
        "colab": {
          "base_uri": "https://localhost:8080/"
        },
        "id": "rnRv3tlVOpm4",
        "outputId": "9425930d-fbfd-403a-be66-7ae759bc2560"
      },
      "execution_count": null,
      "outputs": [
        {
          "output_type": "stream",
          "name": "stdout",
          "text": [
            "['Data Analyst', 'Business Intelligence Analyst']\n"
          ]
        }
      ]
    },
    {
      "cell_type": "code",
      "source": [
        "qualified_roles1=[]\n",
        "\n",
        "for job in job_roles:\n",
        "  if all(skill in job['skills'] for skill in my_skills):\n",
        "    qualified_roles1.append(job['role'])\n",
        "\n",
        "print(qualified_roles1)"
      ],
      "metadata": {
        "colab": {
          "base_uri": "https://localhost:8080/"
        },
        "id": "QAyGgXqkOwnb",
        "outputId": "69e1839d-dc3a-457c-f9ad-a6c1c6ac2a0d"
      },
      "execution_count": null,
      "outputs": [
        {
          "output_type": "stream",
          "name": "stdout",
          "text": [
            "['Data Analyst', 'Business Intelligence Analyst']\n"
          ]
        }
      ]
    },
    {
      "cell_type": "code",
      "source": [
        "qualified_roles = [job['role'] for job in job_roles if all(skill in job['skills'] for skill in my_skills)]\n",
        "\n",
        "print(qualified_roles)"
      ],
      "metadata": {
        "colab": {
          "base_uri": "https://localhost:8080/"
        },
        "id": "42aFSUG2TgwY",
        "outputId": "dc636e27-f9aa-4f5f-9f9a-0a0c402e3ee5"
      },
      "execution_count": null,
      "outputs": [
        {
          "output_type": "stream",
          "name": "stdout",
          "text": [
            "['Data Analyst', 'Business Intelligence Analyst']\n"
          ]
        }
      ]
    },
    {
      "cell_type": "code",
      "source": [
        "salary_list = [100000, 200000, 150000, 120000, 80000, 750000]\n",
        "\n",
        "total_salary_list=[(lambda x: x*1.1)(salary) for salary in salary_list]\n",
        "\n",
        "total_salary_list"
      ],
      "metadata": {
        "colab": {
          "base_uri": "https://localhost:8080/"
        },
        "id": "dK4JPQMqXYbP",
        "outputId": "35b98cf7-59a1-42f3-ae69-5a7682feeedb"
      },
      "execution_count": null,
      "outputs": [
        {
          "output_type": "execute_result",
          "data": {
            "text/plain": [
              "[110000.00000000001,\n",
              " 220000.00000000003,\n",
              " 165000.0,\n",
              " 132000.0,\n",
              " 88000.0,\n",
              " 825000.0000000001]"
            ]
          },
          "metadata": {},
          "execution_count": 44
        }
      ]
    },
    {
      "cell_type": "code",
      "source": [
        "jobs_data = [\n",
        "    {'job_title': 'Data Scientist',  'job_skills': ['Python', 'Machine Learning'], 'remote': True},\n",
        "    {'job_title': 'Data Analyst',  'job_skills': ['Excel', 'SQL'], 'remote': False},\n",
        "    {'job_title': 'Machine Learning Engineer', 'job_skills': ['Python', 'TensorFlow', 'Keras'], 'remote': True},\n",
        "    {'job_title': 'Software Developer', 'job_skills': ['Java', 'C++'], 'remote': True},\n",
        "    {'job_title': 'Data Scientist', 'job_skills': ['R', 'Statistics'], 'remote': False}\n",
        "]"
      ],
      "metadata": {
        "id": "9Gz1KXT4YDkP"
      },
      "execution_count": null,
      "outputs": []
    },
    {
      "cell_type": "code",
      "source": [
        "list(filter(lambda job: job['remote'] and \"Python\" in job['job_skills'],jobs_data))"
      ],
      "metadata": {
        "colab": {
          "base_uri": "https://localhost:8080/"
        },
        "id": "J4ZLPk1YX8kt",
        "outputId": "ef43b3ae-dde1-4ca3-df19-b60ae71fd8d3"
      },
      "execution_count": null,
      "outputs": [
        {
          "output_type": "execute_result",
          "data": {
            "text/plain": [
              "[{'job_title': 'Data Scientist',\n",
              "  'job_skills': ['Python', 'Machine Learning'],\n",
              "  'remote': True},\n",
              " {'job_title': 'Machine Learning Engineer',\n",
              "  'job_skills': ['Python', 'TensorFlow', 'Keras'],\n",
              "  'remote': True}]"
            ]
          },
          "metadata": {},
          "execution_count": 4
        }
      ]
    },
    {
      "cell_type": "code",
      "source": [
        "help(filter)"
      ],
      "metadata": {
        "id": "uYWwQ2szQFuu",
        "outputId": "1d67ee52-bc89-4fa4-faa4-688caa5e36eb",
        "colab": {
          "base_uri": "https://localhost:8080/"
        }
      },
      "execution_count": null,
      "outputs": [
        {
          "output_type": "stream",
          "name": "stdout",
          "text": [
            "Help on class filter in module builtins:\n",
            "\n",
            "class filter(object)\n",
            " |  filter(function or None, iterable) --> filter object\n",
            " |  \n",
            " |  Return an iterator yielding those items of iterable for which function(item)\n",
            " |  is true. If function is None, return the items that are true.\n",
            " |  \n",
            " |  Methods defined here:\n",
            " |  \n",
            " |  __getattribute__(self, name, /)\n",
            " |      Return getattr(self, name).\n",
            " |  \n",
            " |  __iter__(self, /)\n",
            " |      Implement iter(self).\n",
            " |  \n",
            " |  __next__(self, /)\n",
            " |      Implement next(self).\n",
            " |  \n",
            " |  __reduce__(...)\n",
            " |      Return state information for pickling.\n",
            " |  \n",
            " |  ----------------------------------------------------------------------\n",
            " |  Static methods defined here:\n",
            " |  \n",
            " |  __new__(*args, **kwargs)\n",
            " |      Create and return a new object.  See help(type) for accurate signature.\n",
            "\n"
          ]
        }
      ]
    },
    {
      "cell_type": "code",
      "source": [],
      "metadata": {
        "id": "5wnVXEGGQIfg"
      },
      "execution_count": null,
      "outputs": []
    }
  ]
}